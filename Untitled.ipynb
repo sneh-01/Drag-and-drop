{
 "cells": [
  {
   "cell_type": "code",
   "execution_count": 8,
   "id": "8d357e2c",
   "metadata": {},
   "outputs": [
    {
     "ename": "TypeError",
     "evalue": "cannot unpack non-iterable int object",
     "output_type": "error",
     "traceback": [
      "\u001b[1;31m---------------------------------------------------------------------------\u001b[0m",
      "\u001b[1;31mTypeError\u001b[0m                                 Traceback (most recent call last)",
      "Cell \u001b[1;32mIn[8], line 18\u001b[0m\n\u001b[0;32m     15\u001b[0m lmList, img \u001b[38;5;241m=\u001b[39m detector\u001b[38;5;241m.\u001b[39mfindHands(img) \u001b[38;5;66;03m# with draw\u001b[39;00m\n\u001b[0;32m     17\u001b[0m \u001b[38;5;28;01mif\u001b[39;00m \u001b[38;5;28mlen\u001b[39m(lmList)\u001b[38;5;241m!=\u001b[39m \u001b[38;5;241m0\u001b[39m:\n\u001b[1;32m---> 18\u001b[0m     l, _, _ \u001b[38;5;241m=\u001b[39m \u001b[43mdetector\u001b[49m\u001b[38;5;241;43m.\u001b[39;49m\u001b[43mfindDistance\u001b[49m\u001b[43m(\u001b[49m\u001b[38;5;241;43m8\u001b[39;49m\u001b[43m,\u001b[49m\u001b[38;5;241;43m12\u001b[39;49m\u001b[43m,\u001b[49m\u001b[43mimg\u001b[49m\u001b[43m)\u001b[49m\n\u001b[0;32m     19\u001b[0m     \u001b[38;5;28;01mif\u001b[39;00m l\u001b[38;5;241m<\u001b[39m\u001b[38;5;241m30\u001b[39m:\n\u001b[0;32m     21\u001b[0m         cursor \u001b[38;5;241m=\u001b[39m lmList[\u001b[38;5;241m8\u001b[39m]\n",
      "File \u001b[1;32mC:\\python311\\Lib\\site-packages\\cvzone\\HandTrackingModule.py:146\u001b[0m, in \u001b[0;36mHandDetector.findDistance\u001b[1;34m(self, p1, p2, img, color, scale)\u001b[0m\n\u001b[0;32m    135\u001b[0m \u001b[38;5;28;01mdef\u001b[39;00m \u001b[38;5;21mfindDistance\u001b[39m(\u001b[38;5;28mself\u001b[39m, p1, p2, img\u001b[38;5;241m=\u001b[39m\u001b[38;5;28;01mNone\u001b[39;00m, color\u001b[38;5;241m=\u001b[39m(\u001b[38;5;241m255\u001b[39m, \u001b[38;5;241m0\u001b[39m, \u001b[38;5;241m255\u001b[39m), scale\u001b[38;5;241m=\u001b[39m\u001b[38;5;241m5\u001b[39m):\n\u001b[0;32m    136\u001b[0m \u001b[38;5;250m    \u001b[39m\u001b[38;5;124;03m\"\"\"\u001b[39;00m\n\u001b[0;32m    137\u001b[0m \u001b[38;5;124;03m    Find the distance between two landmarks input should be (x1,y1) (x2,y2)\u001b[39;00m\n\u001b[0;32m    138\u001b[0m \u001b[38;5;124;03m    :param p1: Point1 (x1,y1)\u001b[39;00m\n\u001b[1;32m   (...)\u001b[0m\n\u001b[0;32m    143\u001b[0m \u001b[38;5;124;03m             Line information\u001b[39;00m\n\u001b[0;32m    144\u001b[0m \u001b[38;5;124;03m    \"\"\"\u001b[39;00m\n\u001b[1;32m--> 146\u001b[0m     x1, y1 \u001b[38;5;241m=\u001b[39m p1\n\u001b[0;32m    147\u001b[0m     x2, y2 \u001b[38;5;241m=\u001b[39m p2\n\u001b[0;32m    148\u001b[0m     cx, cy \u001b[38;5;241m=\u001b[39m (x1 \u001b[38;5;241m+\u001b[39m x2) \u001b[38;5;241m/\u001b[39m\u001b[38;5;241m/\u001b[39m \u001b[38;5;241m2\u001b[39m, (y1 \u001b[38;5;241m+\u001b[39m y2) \u001b[38;5;241m/\u001b[39m\u001b[38;5;241m/\u001b[39m \u001b[38;5;241m2\u001b[39m\n",
      "\u001b[1;31mTypeError\u001b[0m: cannot unpack non-iterable int object"
     ]
    }
   ],
   "source": [
    "from cvzone.HandTrackingModule import HandDetector\n",
    "import cv2\n",
    "\n",
    "cap = cv2.VideoCapture(0)\n",
    "detector = HandDetector(detectionCon=0.8, maxHands=1)\n",
    "colorR = (0, 255, 0)\n",
    "cx,cy,w,h = 100,100,200,200\n",
    "\n",
    "while True:\n",
    "\n",
    "# Get image frame\n",
    "    success, img = cap.read()\n",
    "    img = cv2.flip(img,1)\n",
    "# Find the hand and its landmarks\n",
    "    lmList, img = detector.findHands(img) # with draw\n",
    "    \n",
    "    if len(lmList)!= 0:\n",
    "        l, _, _ = detector.findDistance(8,12,img)\n",
    "        if l<30:\n",
    "        \n",
    "            cursor = lmList[8]\n",
    "            if cx-w//2 < cursor[0] < cx+w//2 and \\\n",
    "                    cy-h//2 < cursor[1] < cy+h//2:\n",
    "                colorR = (255,0,255)\n",
    "                cx,cy = cursor\n",
    "\n",
    "            else:\n",
    "                colorR = (0, 255, 0)\n",
    "\n",
    "        \n",
    "\n",
    "            \n",
    "    \n",
    "    cv2.rectangle(img, (cx-w//2, cy-h//2),(cx+w//2,cy+h//2),colorR,cv2.FILLED)\n",
    "    \n",
    "    \n",
    "      # Display\n",
    "    cv2.imshow(\"Image\", img)\n",
    "    if cv2.waitKey(1) == ord('q'):\n",
    "        break\n",
    "\n",
    "\n",
    "cap.release()\n",
    "cv2.destroyAllWindows()"
   ]
  },
  {
   "cell_type": "code",
   "execution_count": null,
   "id": "7ee41382",
   "metadata": {},
   "outputs": [],
   "source": [
    "    \n"
   ]
  },
  {
   "cell_type": "code",
   "execution_count": null,
   "id": "750836c6",
   "metadata": {},
   "outputs": [],
   "source": []
  },
  {
   "cell_type": "code",
   "execution_count": null,
   "id": "d5a8a285",
   "metadata": {},
   "outputs": [],
   "source": []
  }
 ],
 "metadata": {
  "kernelspec": {
   "display_name": "Python 3 (ipykernel)",
   "language": "python",
   "name": "python3"
  },
  "language_info": {
   "codemirror_mode": {
    "name": "ipython",
    "version": 3
   },
   "file_extension": ".py",
   "mimetype": "text/x-python",
   "name": "python",
   "nbconvert_exporter": "python",
   "pygments_lexer": "ipython3",
   "version": "3.11.1"
  }
 },
 "nbformat": 4,
 "nbformat_minor": 5
}
